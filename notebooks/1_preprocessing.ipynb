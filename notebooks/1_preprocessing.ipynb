{
 "cells": [
  {
   "cell_type": "markdown",
   "metadata": {},
   "source": [
    "# Preprocessing"
   ]
  },
  {
   "cell_type": "code",
   "execution_count": 1,
   "metadata": {},
   "outputs": [],
   "source": [
    "import numpy as np\n",
    "import pandas as pd\n",
    "import matplotlib.pyplot as plt\n",
    "from PIL import Image, ImageDraw, ImageFont\n",
    "from os import listdir\n",
    "from tensorflow import keras\n",
    "import re\n",
    "import pickle\n",
    "%matplotlib inline"
   ]
  },
  {
   "cell_type": "code",
   "execution_count": 2,
   "metadata": {},
   "outputs": [],
   "source": [
    "labels = pd.read_csv('../data/original/train.csv')\n",
    "labels_and_locations = []\n",
    "total_labels = []\n",
    "for label in labels['labels']:\n",
    "    x = np.array(label.split(' ')).reshape(-1, 5)\n",
    "    labels_and_locations.append(x)\n",
    "    total_labels+= [xi[0] for xi in x]\n",
    "labels['labels']=labels_and_locations"
   ]
  },
  {
   "cell_type": "code",
   "execution_count": 3,
   "metadata": {},
   "outputs": [
    {
     "data": {
      "text/html": [
       "<div>\n",
       "<style scoped>\n",
       "    .dataframe tbody tr th:only-of-type {\n",
       "        vertical-align: middle;\n",
       "    }\n",
       "\n",
       "    .dataframe tbody tr th {\n",
       "        vertical-align: top;\n",
       "    }\n",
       "\n",
       "    .dataframe thead th {\n",
       "        text-align: right;\n",
       "    }\n",
       "</style>\n",
       "<table border=\"1\" class=\"dataframe\">\n",
       "  <thead>\n",
       "    <tr style=\"text-align: right;\">\n",
       "      <th></th>\n",
       "      <th>image_id</th>\n",
       "      <th>labels</th>\n",
       "    </tr>\n",
       "  </thead>\n",
       "  <tbody>\n",
       "    <tr>\n",
       "      <th>0</th>\n",
       "      <td>100241706_00004_2</td>\n",
       "      <td>[[U+306F, 1231, 3465, 133, 53], [U+304C, 275, ...</td>\n",
       "    </tr>\n",
       "    <tr>\n",
       "      <th>1</th>\n",
       "      <td>100241706_00005_1</td>\n",
       "      <td>[[U+306F, 1087, 2018, 103, 65], [U+304B, 1456,...</td>\n",
       "    </tr>\n",
       "    <tr>\n",
       "      <th>2</th>\n",
       "      <td>100241706_00005_2</td>\n",
       "      <td>[[U+306F, 572, 1376, 125, 57], [U+306E, 1551, ...</td>\n",
       "    </tr>\n",
       "    <tr>\n",
       "      <th>3</th>\n",
       "      <td>100241706_00006_1</td>\n",
       "      <td>[[U+3082, 1455, 3009, 65, 44], [U+516B, 1654, ...</td>\n",
       "    </tr>\n",
       "    <tr>\n",
       "      <th>4</th>\n",
       "      <td>100241706_00007_2</td>\n",
       "      <td>[[U+309D, 1201, 2949, 27, 33], [U+309D, 1196, ...</td>\n",
       "    </tr>\n",
       "  </tbody>\n",
       "</table>\n",
       "</div>"
      ],
      "text/plain": [
       "            image_id                                             labels\n",
       "0  100241706_00004_2  [[U+306F, 1231, 3465, 133, 53], [U+304C, 275, ...\n",
       "1  100241706_00005_1  [[U+306F, 1087, 2018, 103, 65], [U+304B, 1456,...\n",
       "2  100241706_00005_2  [[U+306F, 572, 1376, 125, 57], [U+306E, 1551, ...\n",
       "3  100241706_00006_1  [[U+3082, 1455, 3009, 65, 44], [U+516B, 1654, ...\n",
       "4  100241706_00007_2  [[U+309D, 1201, 2949, 27, 33], [U+309D, 1196, ..."
      ]
     },
     "execution_count": 3,
     "metadata": {},
     "output_type": "execute_result"
    }
   ],
   "source": [
    "labels.head()"
   ]
  },
  {
   "cell_type": "code",
   "execution_count": 4,
   "metadata": {
    "scrolled": true
   },
   "outputs": [
    {
     "data": {
      "text/plain": [
       "array([['U+306F', '1231', '3465', '133', '53'],\n",
       "       ['U+304C', '275', '1652', '84', '69'],\n",
       "       ['U+3044', '1495', '1218', '143', '69'],\n",
       "       ['U+3051', '220', '3331', '53', '91'],\n",
       "       ['U+306B', '911', '1452', '61', '92'],\n",
       "       ['U+306B', '927', '3445', '71', '92'],\n",
       "       ['U+306E', '904', '2879', '95', '92'],\n",
       "       ['U+5DE5', '1168', '1396', '187', '95'],\n",
       "       ['U+3053', '289', '3166', '69', '97'],\n",
       "       ['U+4E09', '897', '3034', '121', '107']], dtype='<U6')"
      ]
     },
     "execution_count": 4,
     "metadata": {},
     "output_type": "execute_result"
    }
   ],
   "source": [
    "labels.loc[0, 'labels'][:10]"
   ]
  },
  {
   "cell_type": "markdown",
   "metadata": {},
   "source": [
    "Each page ('image_id') comes with a -1x5 array, the first column of which is the unicode for a character, and the following 4 numbers are character location data: upper left x, upper left y, width, height. Next, I crop out each character."
   ]
  },
  {
   "cell_type": "code",
   "execution_count": 5,
   "metadata": {
    "scrolled": true
   },
   "outputs": [
    {
     "name": "stdout",
     "output_type": "stream",
     "text": [
      "0\n",
      "100\n",
      "200\n",
      "300\n",
      "400\n",
      "500\n",
      "600\n",
      "700\n",
      "800\n",
      "900\n",
      "1000\n",
      "1100\n",
      "1200\n",
      "1300\n",
      "1400\n",
      "1500\n",
      "1600\n",
      "1700\n",
      "1800\n",
      "1900\n",
      "2000\n",
      "2100\n",
      "2200\n",
      "2300\n",
      "2400\n",
      "2500\n",
      "2600\n",
      "2700\n",
      "2800\n",
      "2900\n",
      "3000\n",
      "3100\n",
      "3200\n",
      "3300\n",
      "3400\n",
      "3500\n",
      "3600\n"
     ]
    }
   ],
   "source": [
    "train_filenames = listdir('../data/original/train_images/')\n",
    "\n",
    "train_images = []\n",
    "y = []\n",
    "counter=0\n",
    "for fp in train_filenames:\n",
    "    if (counter%100==0):\n",
    "        print(counter)\n",
    "    counter+=1\n",
    "    img = Image.open(f'../data/original/train_images/{fp}').convert(mode='L')\n",
    "    for subimg in list(labels[labels['image_id']==fp[:-4]]['labels'])[0]:\n",
    "        y.append(subimg[0])\n",
    "        coords = list(subimg[1:])\n",
    "        coords = tuple([int(coord) for coord in coords])\n",
    "        coords = (coords[0], coords[1], coords[0]+coords[2], coords[1]+coords[3])\n",
    "        train_images.append(img.crop(coords))"
   ]
  },
  {
   "cell_type": "code",
   "execution_count": 6,
   "metadata": {},
   "outputs": [
    {
     "data": {
      "text/plain": [
       "683464"
      ]
     },
     "execution_count": 6,
     "metadata": {},
     "output_type": "execute_result"
    }
   ],
   "source": [
    "len(y)"
   ]
  },
  {
   "cell_type": "code",
   "execution_count": 7,
   "metadata": {},
   "outputs": [
    {
     "data": {
      "text/plain": [
       "683464"
      ]
     },
     "execution_count": 7,
     "metadata": {},
     "output_type": "execute_result"
    }
   ],
   "source": [
    "len(train_images)"
   ]
  },
  {
   "cell_type": "code",
   "execution_count": 8,
   "metadata": {},
   "outputs": [],
   "source": [
    "train_df = pd.DataFrame([train_images, y]).T"
   ]
  },
  {
   "cell_type": "code",
   "execution_count": 9,
   "metadata": {},
   "outputs": [],
   "source": [
    "train_df.columns=['img', 'char_unicode']"
   ]
  },
  {
   "cell_type": "code",
   "execution_count": 10,
   "metadata": {},
   "outputs": [
    {
     "data": {
      "text/html": [
       "<div>\n",
       "<style scoped>\n",
       "    .dataframe tbody tr th:only-of-type {\n",
       "        vertical-align: middle;\n",
       "    }\n",
       "\n",
       "    .dataframe tbody tr th {\n",
       "        vertical-align: top;\n",
       "    }\n",
       "\n",
       "    .dataframe thead th {\n",
       "        text-align: right;\n",
       "    }\n",
       "</style>\n",
       "<table border=\"1\" class=\"dataframe\">\n",
       "  <thead>\n",
       "    <tr style=\"text-align: right;\">\n",
       "      <th></th>\n",
       "      <th>img</th>\n",
       "      <th>char_unicode</th>\n",
       "    </tr>\n",
       "  </thead>\n",
       "  <tbody>\n",
       "    <tr>\n",
       "      <th>0</th>\n",
       "      <td>&lt;PIL.Image.Image image mode=L size=105x17 at 0...</td>\n",
       "      <td>U+4E00</td>\n",
       "    </tr>\n",
       "    <tr>\n",
       "      <th>1</th>\n",
       "      <td>&lt;PIL.Image.Image image mode=L size=33x18 at 0x...</td>\n",
       "      <td>U+30EC</td>\n",
       "    </tr>\n",
       "    <tr>\n",
       "      <th>2</th>\n",
       "      <td>&lt;PIL.Image.Image image mode=L size=102x18 at 0...</td>\n",
       "      <td>U+4E00</td>\n",
       "    </tr>\n",
       "    <tr>\n",
       "      <th>3</th>\n",
       "      <td>&lt;PIL.Image.Image image mode=L size=39x27 at 0x...</td>\n",
       "      <td>U+30EC</td>\n",
       "    </tr>\n",
       "    <tr>\n",
       "      <th>4</th>\n",
       "      <td>&lt;PIL.Image.Image image mode=L size=33x28 at 0x...</td>\n",
       "      <td>U+30EC</td>\n",
       "    </tr>\n",
       "  </tbody>\n",
       "</table>\n",
       "</div>"
      ],
      "text/plain": [
       "                                                 img char_unicode\n",
       "0  <PIL.Image.Image image mode=L size=105x17 at 0...       U+4E00\n",
       "1  <PIL.Image.Image image mode=L size=33x18 at 0x...       U+30EC\n",
       "2  <PIL.Image.Image image mode=L size=102x18 at 0...       U+4E00\n",
       "3  <PIL.Image.Image image mode=L size=39x27 at 0x...       U+30EC\n",
       "4  <PIL.Image.Image image mode=L size=33x28 at 0x...       U+30EC"
      ]
     },
     "execution_count": 10,
     "metadata": {},
     "output_type": "execute_result"
    }
   ],
   "source": [
    "train_df.head()"
   ]
  },
  {
   "cell_type": "code",
   "execution_count": 11,
   "metadata": {},
   "outputs": [],
   "source": [
    "# with open('../data/extracted_train/train_df.txt', 'wb') as fp:\n",
    "#     pickle.dump(train_df, fp)"
   ]
  },
  {
   "cell_type": "code",
   "execution_count": 12,
   "metadata": {},
   "outputs": [
    {
     "data": {
      "image/png": "[encoded data removed]",
      "text/plain": [
       "<PIL.Image.Image image mode=L size=33x18 at 0x7FBE6C0F5F28>"
      ]
     },
     "execution_count": 12,
     "metadata": {},
     "output_type": "execute_result"
    }
   ],
   "source": [
    "train_df['img'][1]"
   ]
  },
  {
   "cell_type": "markdown",
   "metadata": {},
   "source": [
    "Next, loading the unicode-character conversion table"
   ]
  },
  {
   "cell_type": "code",
   "execution_count": 13,
   "metadata": {},
   "outputs": [
    {
     "data": {
      "text/html": [
       "<div>\n",
       "<style scoped>\n",
       "    .dataframe tbody tr th:only-of-type {\n",
       "        vertical-align: middle;\n",
       "    }\n",
       "\n",
       "    .dataframe tbody tr th {\n",
       "        vertical-align: top;\n",
       "    }\n",
       "\n",
       "    .dataframe thead th {\n",
       "        text-align: right;\n",
       "    }\n",
       "</style>\n",
       "<table border=\"1\" class=\"dataframe\">\n",
       "  <thead>\n",
       "    <tr style=\"text-align: right;\">\n",
       "      <th></th>\n",
       "      <th>unicode</th>\n",
       "      <th>char</th>\n",
       "    </tr>\n",
       "  </thead>\n",
       "  <tbody>\n",
       "    <tr>\n",
       "      <th>0</th>\n",
       "      <td>U+0031</td>\n",
       "      <td>1</td>\n",
       "    </tr>\n",
       "    <tr>\n",
       "      <th>1</th>\n",
       "      <td>U+0032</td>\n",
       "      <td>2</td>\n",
       "    </tr>\n",
       "    <tr>\n",
       "      <th>2</th>\n",
       "      <td>U+0034</td>\n",
       "      <td>4</td>\n",
       "    </tr>\n",
       "    <tr>\n",
       "      <th>3</th>\n",
       "      <td>U+0036</td>\n",
       "      <td>6</td>\n",
       "    </tr>\n",
       "    <tr>\n",
       "      <th>4</th>\n",
       "      <td>U+0039</td>\n",
       "      <td>9</td>\n",
       "    </tr>\n",
       "  </tbody>\n",
       "</table>\n",
       "</div>"
      ],
      "text/plain": [
       "  unicode char\n",
       "0  U+0031    1\n",
       "1  U+0032    2\n",
       "2  U+0034    4\n",
       "3  U+0036    6\n",
       "4  U+0039    9"
      ]
     },
     "execution_count": 13,
     "metadata": {},
     "output_type": "execute_result"
    }
   ],
   "source": [
    "conversion = pd.read_csv('../data/original/unicode_translation.csv')\n",
    "conversion.columns=['unicode', 'char']\n",
    "conversion.head()"
   ]
  },
  {
   "cell_type": "code",
   "execution_count": 14,
   "metadata": {},
   "outputs": [],
   "source": [
    "train_df.columns = ['img', 'unicode']"
   ]
  },
  {
   "cell_type": "code",
   "execution_count": 15,
   "metadata": {},
   "outputs": [],
   "source": [
    "train_df = train_df.set_index('unicode').join(conversion.set_index('unicode'))"
   ]
  },
  {
   "cell_type": "code",
   "execution_count": 16,
   "metadata": {
    "scrolled": true
   },
   "outputs": [
    {
     "data": {
      "text/html": [
       "<div>\n",
       "<style scoped>\n",
       "    .dataframe tbody tr th:only-of-type {\n",
       "        vertical-align: middle;\n",
       "    }\n",
       "\n",
       "    .dataframe tbody tr th {\n",
       "        vertical-align: top;\n",
       "    }\n",
       "\n",
       "    .dataframe thead th {\n",
       "        text-align: right;\n",
       "    }\n",
       "</style>\n",
       "<table border=\"1\" class=\"dataframe\">\n",
       "  <thead>\n",
       "    <tr style=\"text-align: right;\">\n",
       "      <th></th>\n",
       "      <th>img</th>\n",
       "      <th>char</th>\n",
       "    </tr>\n",
       "    <tr>\n",
       "      <th>unicode</th>\n",
       "      <th></th>\n",
       "      <th></th>\n",
       "    </tr>\n",
       "  </thead>\n",
       "  <tbody>\n",
       "    <tr>\n",
       "      <th>U+003F</th>\n",
       "      <td>&lt;PIL.Image.Image image mode=L size=118x149 at ...</td>\n",
       "      <td>?</td>\n",
       "    </tr>\n",
       "    <tr>\n",
       "      <th>U+2000B</th>\n",
       "      <td>&lt;PIL.Image.Image image mode=L size=99x108 at 0...</td>\n",
       "      <td>𠀋</td>\n",
       "    </tr>\n",
       "    <tr>\n",
       "      <th>U+2000B</th>\n",
       "      <td>&lt;PIL.Image.Image image mode=L size=96x113 at 0...</td>\n",
       "      <td>𠀋</td>\n",
       "    </tr>\n",
       "    <tr>\n",
       "      <th>U+2000B</th>\n",
       "      <td>&lt;PIL.Image.Image image mode=L size=105x134 at ...</td>\n",
       "      <td>𠀋</td>\n",
       "    </tr>\n",
       "    <tr>\n",
       "      <th>U+2000B</th>\n",
       "      <td>&lt;PIL.Image.Image image mode=L size=100x110 at ...</td>\n",
       "      <td>𠀋</td>\n",
       "    </tr>\n",
       "  </tbody>\n",
       "</table>\n",
       "</div>"
      ],
      "text/plain": [
       "                                                       img char\n",
       "unicode                                                        \n",
       "U+003F   <PIL.Image.Image image mode=L size=118x149 at ...    ?\n",
       "U+2000B  <PIL.Image.Image image mode=L size=99x108 at 0...    𠀋\n",
       "U+2000B  <PIL.Image.Image image mode=L size=96x113 at 0...    𠀋\n",
       "U+2000B  <PIL.Image.Image image mode=L size=105x134 at ...    𠀋\n",
       "U+2000B  <PIL.Image.Image image mode=L size=100x110 at ...    𠀋"
      ]
     },
     "execution_count": 16,
     "metadata": {},
     "output_type": "execute_result"
    }
   ],
   "source": [
    "train_df.head()"
   ]
  },
  {
   "cell_type": "code",
   "execution_count": 17,
   "metadata": {},
   "outputs": [
    {
     "name": "stdout",
     "output_type": "stream",
     "text": [
      "前\n"
     ]
    },
    {
     "data": {
      "image/png": "[encoded data removed]",
      "text/plain": [
       "<PIL.Image.Image image mode=L size=88x79 at 0x7FBD43CECFD0>"
      ]
     },
     "execution_count": 17,
     "metadata": {},
     "output_type": "execute_result"
    }
   ],
   "source": [
    "ind = 500000\n",
    "\n",
    "print(train_df.reset_index()['char'][ind])\n",
    "train_df.reset_index()['img'][ind]"
   ]
  },
  {
   "cell_type": "code",
   "execution_count": 18,
   "metadata": {},
   "outputs": [],
   "source": [
    "# with open('../data/extracted_train/train_df.txt', 'wb') as fp:\n",
    "#     pickle.dump(train_df, fp)"
   ]
  },
  {
   "cell_type": "code",
   "execution_count": 19,
   "metadata": {},
   "outputs": [],
   "source": [
    "# total_labels = []\n",
    "# for label in labels['labels']:\n",
    "#     tokens = np.array(label.split(' ')).reshape(-1, 5)\n",
    "#     chars = np.array([token[0] for token in tokens]).reshape(-1)\n",
    "#     total_labels += list(chars)"
   ]
  },
  {
   "cell_type": "markdown",
   "metadata": {},
   "source": [
    "Only a few hundred characters make up the large majority of those on the page. Most characters appear only in very trace amounts, with the rarest of them having only 1 img in train data. (See [Zipf's Law](https://en.wikipedia.org/wiki/Zipf%27s_law).)"
   ]
  },
  {
   "cell_type": "code",
   "execution_count": 20,
   "metadata": {},
   "outputs": [],
   "source": [
    "counts = pd.DataFrame(pd.Series(y).value_counts(normalize=True))\n",
    "counts.columns=['rel_freq']"
   ]
  },
  {
   "cell_type": "code",
   "execution_count": 21,
   "metadata": {},
   "outputs": [
    {
     "name": "stderr",
     "output_type": "stream",
     "text": [
      "/Users/stlanier/opt/anaconda3/envs/learn-env/lib/python3.6/site-packages/pandas/plotting/_matplotlib/core.py:1235: UserWarning: FixedFormatter should only be used together with FixedLocator\n",
      "  ax.set_xticklabels(xticklabels)\n"
     ]
    },
    {
     "data": {
      "text/plain": [
       "Text(0, 0.5, 'Relative Frequency')"
      ]
     },
     "execution_count": 21,
     "metadata": {},
     "output_type": "execute_result"
    },
    {
     "data": {
      "text/plain": [
       "<Figure size 864x576 with 0 Axes>"
      ]
     },
     "metadata": {},
     "output_type": "display_data"
    },
    {
     "data": {
      "image/png": "[encoded data removed]",
      "text/plain": [
       "<Figure size 432x288 with 1 Axes>"
      ]
     },
     "metadata": {
      "needs_background": "light"
     },
     "output_type": "display_data"
    }
   ],
   "source": [
    "plt.figure(figsize=(12,8))\n",
    "counts.sort_values('rel_freq', ascending=False).cumsum().plot()\n",
    "plt.hlines(0.9, xmin=0, xmax=4000, color='red', label='90% Cumulative Frequency')\n",
    "plt.title('Cumulative Frequency Distribution of Characters')\n",
    "plt.xlabel('Unicode')\n",
    "plt.ylabel('Relative Frequency')"
   ]
  },
  {
   "cell_type": "code",
   "execution_count": 22,
   "metadata": {},
   "outputs": [
    {
     "data": {
      "text/plain": [
       "513"
      ]
     },
     "execution_count": 22,
     "metadata": {},
     "output_type": "execute_result"
    }
   ],
   "source": [
    "len(counts[counts.cumsum()['rel_freq'] <= 0.9])"
   ]
  },
  {
   "cell_type": "markdown",
   "metadata": {},
   "source": [
    "The rarest of those characters––1 to 20 images each––don't have enough data to train a model on. Because the model won't be able to recognize each of those rare characters, and to keep the number of classes at a few hundred rather than a few thousand, I'm keeping labels for only the most common characters (those that make up 90% of characters that appear on page, a total of 513 characters) and classifying all the others as 'rare' for a total of 514 classes."
   ]
  },
  {
   "cell_type": "code",
   "execution_count": 23,
   "metadata": {},
   "outputs": [],
   "source": [
    "top_513 = list(counts[counts.cumsum()['rel_freq'] <= 0.9].reset_index()['index'])"
   ]
  },
  {
   "cell_type": "code",
   "execution_count": 24,
   "metadata": {},
   "outputs": [
    {
     "data": {
      "text/plain": [
       "['U+306B',\n",
       " 'U+306E',\n",
       " 'U+3057',\n",
       " 'U+3066',\n",
       " 'U+3068',\n",
       " 'U+3092',\n",
       " 'U+306F',\n",
       " 'U+304B',\n",
       " 'U+308A',\n",
       " 'U+306A',\n",
       " 'U+3082',\n",
       " 'U+3044',\n",
       " 'U+308B',\n",
       " 'U+3089',\n",
       " 'U+305F',\n",
       " 'U+304F',\n",
       " 'U+3078',\n",
       " 'U+307E',\n",
       " 'U+304D',\n",
       " 'U+308C',\n",
       " 'U+3055',\n",
       " 'U+3075',\n",
       " 'U+3064',\n",
       " 'U+3093',\n",
       " 'U+304C',\n",
       " 'U+3046',\n",
       " 'U+3059',\n",
       " 'U+3042',\n",
       " 'U+3084',\n",
       " 'U+304A',\n",
       " 'U+3053',\n",
       " 'U+3088',\n",
       " 'U+3072',\n",
       " 'U+3051',\n",
       " 'U+3070',\n",
       " 'U+305B',\n",
       " 'U+305D',\n",
       " 'U+309D',\n",
       " 'U+3081',\n",
       " 'U+3060',\n",
       " 'U+4E00',\n",
       " 'U+3067',\n",
       " 'U+3069',\n",
       " 'U+307F',\n",
       " 'U+30A2',\n",
       " 'U+306D',\n",
       " 'U+4EBA',\n",
       " 'U+3031',\n",
       " 'U+308F',\n",
       " 'U+3061',\n",
       " 'U+30FB',\n",
       " 'U+4E8B',\n",
       " 'U+5165',\n",
       " 'U+308D',\n",
       " 'U+305A',\n",
       " 'U+51FA',\n",
       " 'U+3079',\n",
       " 'U+4E91',\n",
       " 'U+3058',\n",
       " 'U+5B50',\n",
       " 'U+53C8',\n",
       " 'U+307B',\n",
       " 'U+306C',\n",
       " 'U+898B',\n",
       " 'U+3086',\n",
       " 'U+7269',\n",
       " 'U+5927',\n",
       " 'U+6B64',\n",
       " 'U+3080',\n",
       " 'U+4E0A',\n",
       " 'U+65E5',\n",
       " 'U+3054',\n",
       " 'U+5176',\n",
       " 'U+4E09',\n",
       " 'U+3056',\n",
       " 'U+65B9',\n",
       " 'U+4E2D',\n",
       " 'U+5C0F',\n",
       " 'U+4E5F',\n",
       " 'U+4F55',\n",
       " 'U+25CB',\n",
       " 'U+4E8C',\n",
       " 'U+5973',\n",
       " 'U+5019',\n",
       " 'U+5FA1',\n",
       " 'U+56FD',\n",
       " 'U+5341',\n",
       " 'U+3073',\n",
       " 'U+4ECA',\n",
       " 'U+30CF',\n",
       " 'U+662F',\n",
       " 'U+6642',\n",
       " 'U+3065',\n",
       " 'U+300C',\n",
       " 'U+6C34',\n",
       " 'U+5408',\n",
       " 'U+624B',\n",
       " 'U+30C8',\n",
       " 'U+6240',\n",
       " 'U+4E94',\n",
       " 'U+5FC3',\n",
       " 'U+7D66',\n",
       " 'U+6765',\n",
       " 'U+3076',\n",
       " 'U+30FD',\n",
       " 'U+5C71',\n",
       " 'U+305E',\n",
       " 'U+8EAB',\n",
       " 'U+3052',\n",
       " 'U+7533',\n",
       " 'U+30C4',\n",
       " 'U+4E0B',\n",
       " 'U+516B',\n",
       " 'U+540C',\n",
       " 'U+767D',\n",
       " 'U+69D8',\n",
       " 'U+6C17',\n",
       " 'U+524D',\n",
       " 'U+7ACB',\n",
       " 'U+6709',\n",
       " 'U+30A4',\n",
       " 'U+601D',\n",
       " 'U+56DB',\n",
       " 'U+304E',\n",
       " 'U+53F3',\n",
       " 'U+76EE',\n",
       " 'U+4E16',\n",
       " 'U+5C45',\n",
       " 'U+307C',\n",
       " 'U+8A00',\n",
       " 'U+5F8C',\n",
       " 'U+4ED5',\n",
       " 'U+53E3',\n",
       " 'U+5206',\n",
       " 'U+6C41',\n",
       " 'U+5207',\n",
       " 'U+751F',\n",
       " 'U+5185',\n",
       " 'U+3050',\n",
       " 'U+3048',\n",
       " 'U+9577',\n",
       " 'U+516D',\n",
       " 'U+30A6',\n",
       " 'U+90CE',\n",
       " 'U+8272',\n",
       " 'U+4E4B',\n",
       " 'U+5BB6',\n",
       " 'U+5409',\n",
       " 'U+540D',\n",
       " 'U+805E',\n",
       " 'U+98A8',\n",
       " 'U+30B5',\n",
       " 'U+9152',\n",
       " 'U+716E',\n",
       " 'U+53D6',\n",
       " 'U+5F15',\n",
       " 'U+7C73',\n",
       " 'U+6708',\n",
       " 'U+7F6E',\n",
       " 'U+8695',\n",
       " 'U+309E',\n",
       " 'U+30EC',\n",
       " 'U+884C',\n",
       " 'U+5E74',\n",
       " 'U+6E6F',\n",
       " 'U+592B',\n",
       " 'U+30E4',\n",
       " 'U+80FD',\n",
       " 'U+591C',\n",
       " 'U+82B1',\n",
       " 'U+7C89',\n",
       " 'U+6728',\n",
       " 'U+30F2',\n",
       " 'U+5473',\n",
       " 'U+9593',\n",
       " 'U+6238',\n",
       " 'U+30E8',\n",
       " 'U+91D1',\n",
       " 'U+7A0B',\n",
       " 'U+6625',\n",
       " 'U+6C5F',\n",
       " 'U+98DF',\n",
       " 'U+6771',\n",
       " 'U+3005',\n",
       " 'U+8005',\n",
       " 'U+30CB',\n",
       " 'U+5C4B',\n",
       " 'U+671D',\n",
       " 'U+5C11',\n",
       " 'U+7528',\n",
       " 'U+4ED8',\n",
       " 'U+4E03',\n",
       " 'U+8336',\n",
       " 'U+7537',\n",
       " 'U+5DDE',\n",
       " 'U+3090',\n",
       " 'U+897F',\n",
       " 'U+5929',\n",
       " 'U+30CA',\n",
       " 'U+8449',\n",
       " 'U+79C1',\n",
       " 'U+6CBB',\n",
       " 'U+8C46',\n",
       " 'U+5E73',\n",
       " 'U+706B',\n",
       " 'U+30DF',\n",
       " 'U+5916',\n",
       " 'U+9905',\n",
       " 'U+548C',\n",
       " 'U+672C',\n",
       " 'U+9CE5',\n",
       " 'U+30F1',\n",
       " 'U+70BA',\n",
       " 'U+3091',\n",
       " 'U+305C',\n",
       " 'U+9053',\n",
       " 'U+6210',\n",
       " 'U+5175',\n",
       " 'U+7389',\n",
       " 'U+7D19',\n",
       " 'U+4E39',\n",
       " 'U+7FA9',\n",
       " 'U+4E0D',\n",
       " 'U+5F7C',\n",
       " 'U+7406',\n",
       " 'U+91CE',\n",
       " 'U+7CD6',\n",
       " 'U+713C',\n",
       " 'U+3062',\n",
       " 'U+66F8',\n",
       " 'U+9B5A',\n",
       " 'U+4E3B',\n",
       " 'U+6B21',\n",
       " 'U+85E4',\n",
       " 'U+592A',\n",
       " 'U+30E2',\n",
       " 'U+7B2C',\n",
       " 'U+5E30',\n",
       " 'U+7530',\n",
       " 'U+6CD5',\n",
       " 'U+885B',\n",
       " 'U+767E',\n",
       " 'U+5148',\n",
       " 'U+901A',\n",
       " 'U+30CE',\n",
       " 'U+5869',\n",
       " 'U+5DE6',\n",
       " 'U+795E',\n",
       " 'U+5730',\n",
       " 'U+77E5',\n",
       " 'U+53CA',\n",
       " 'U+9580',\n",
       " 'U+30DE',\n",
       " 'U+4F5C',\n",
       " 'U+591A',\n",
       " 'U+5DDD',\n",
       " 'U+4E5D',\n",
       " 'U+571F',\n",
       " 'U+6587',\n",
       " 'U+6851',\n",
       " 'U+660E',\n",
       " 'U+53E4',\n",
       " 'U+6839',\n",
       " 'U+5EA6',\n",
       " 'U+30CD',\n",
       " 'U+6211',\n",
       " 'U+7802',\n",
       " 'U+7A2E',\n",
       " 'U+7CF8',\n",
       " 'U+98EF',\n",
       " 'U+60AA',\n",
       " 'U+5347',\n",
       " 'U+6CB9',\n",
       " 'U+982D',\n",
       " 'U+6885',\n",
       " 'U+5F62',\n",
       " 'U+7531',\n",
       " 'U+303B',\n",
       " 'U+89D2',\n",
       " 'U+677E',\n",
       " 'U+5DFB',\n",
       " 'U+5F97',\n",
       " 'U+8349',\n",
       " 'U+8FD1',\n",
       " 'U+90E8',\n",
       " 'U+6F2C',\n",
       " 'U+5EA7',\n",
       " 'U+81EA',\n",
       " 'U+30B3',\n",
       " 'U+91CC',\n",
       " 'U+4EAC',\n",
       " 'U+9AD8',\n",
       " 'U+58F0',\n",
       " 'U+5B9F',\n",
       " 'U+534A',\n",
       " 'U+714E',\n",
       " 'U+99AC',\n",
       " 'U+843D',\n",
       " 'U+89AA',\n",
       " 'U+6301',\n",
       " 'U+4EE3',\n",
       " 'U+8DB3',\n",
       " 'U+8A9E',\n",
       " 'U+9063',\n",
       " 'U+7121',\n",
       " 'U+547C',\n",
       " 'U+5E38',\n",
       " 'U+9752',\n",
       " 'U+52A0',\n",
       " 'U+30F3',\n",
       " 'U+6D77',\n",
       " 'U+5982',\n",
       " 'U+5F37',\n",
       " 'U+6216',\n",
       " 'U+5225',\n",
       " 'U+53BB',\n",
       " 'U+7AF9',\n",
       " 'U+6577',\n",
       " 'U+623F',\n",
       " 'U+5F53',\n",
       " 'U+76F4',\n",
       " 'U+5F80',\n",
       " 'U+5BA2',\n",
       " 'U+4FE1',\n",
       " 'U+6545',\n",
       " 'U+4E21',\n",
       " 'U+9060',\n",
       " 'U+7B49',\n",
       " 'U+6B7B',\n",
       " 'U+82E5',\n",
       " 'U+6253',\n",
       " 'U+7740',\n",
       " 'U+58F1',\n",
       " 'U+8D8A',\n",
       " 'U+5375',\n",
       " 'U+985E',\n",
       " 'U+65B0',\n",
       " 'U+6B66',\n",
       " 'U+6BCD',\n",
       " 'U+76F8',\n",
       " 'U+7DCF',\n",
       " 'U+91CD',\n",
       " 'U+7236',\n",
       " 'U+5965',\n",
       " 'U+8001',\n",
       " 'U+61F8',\n",
       " 'U+60C5',\n",
       " 'U+4E38',\n",
       " 'U+8FBA',\n",
       " 'U+6298',\n",
       " 'U+6D41',\n",
       " 'U+5357',\n",
       " 'U+7B11',\n",
       " 'U+4E07',\n",
       " 'U+8584',\n",
       " 'U+9762',\n",
       " 'U+904E',\n",
       " 'U+753A',\n",
       " 'U+521D',\n",
       " 'U+5BF8',\n",
       " 'U+6268',\n",
       " 'U+4F8D',\n",
       " 'U+8DE1',\n",
       " 'U+4EE5',\n",
       " 'U+8D64',\n",
       " 'U+51E6',\n",
       " 'U+4F46',\n",
       " 'U+5CF6',\n",
       " 'U+65E9',\n",
       " 'U+90FD',\n",
       " 'U+97F3',\n",
       " 'U+5411',\n",
       " 'U+4F59',\n",
       " 'U+7D30',\n",
       " 'U+5150',\n",
       " 'U+564C',\n",
       " 'U+3032',\n",
       " 'U+52DD',\n",
       " 'U+5171',\n",
       " 'U+5510',\n",
       " 'U+76AE',\n",
       " 'U+95A2',\n",
       " 'U+76BF',\n",
       " 'U+9EA6',\n",
       " 'U+610F',\n",
       " 'U+5343',\n",
       " 'U+7136',\n",
       " 'U+5B9A',\n",
       " 'U+8A5E',\n",
       " 'U+6368',\n",
       " 'U+5E2B',\n",
       " 'U+845B',\n",
       " 'U+8179',\n",
       " 'U+96EA',\n",
       " 'U+53EA',\n",
       " 'U+96E8',\n",
       " 'U+4F1D',\n",
       " 'U+597D',\n",
       " 'U+77F3',\n",
       " 'U+6570',\n",
       " 'U+9ED2',\n",
       " 'U+83DC',\n",
       " 'U+4E45',\n",
       " 'U+541B',\n",
       " 'U+8776',\n",
       " 'U+5143',\n",
       " 'U+990A',\n",
       " 'U+8863',\n",
       " 'U+5BBF',\n",
       " 'U+75C5',\n",
       " 'U+6B63',\n",
       " 'U+4E01',\n",
       " 'U+4ECB',\n",
       " 'U+934B',\n",
       " 'U+53C2',\n",
       " 'U+54C1',\n",
       " 'U+6B4C',\n",
       " 'U+79CB',\n",
       " 'U+9999',\n",
       " 'U+4F3C',\n",
       " 'U+5A66',\n",
       " 'U+5E03',\n",
       " 'U+771F',\n",
       " 'U+5E72',\n",
       " 'U+6599',\n",
       " 'U+5C3E',\n",
       " 'U+7F8E',\n",
       " 'U+76DB',\n",
       " 'U+96F2',\n",
       " 'U+88FD',\n",
       " 'U+53F0',\n",
       " 'U+7D42',\n",
       " 'U+82E6',\n",
       " 'U+8D77',\n",
       " 'U+6597',\n",
       " 'U+52E2',\n",
       " 'U+5BD2',\n",
       " 'U+7FBD',\n",
       " 'U+9803',\n",
       " 'U+4ED6',\n",
       " 'U+547D',\n",
       " 'U+9EC4',\n",
       " 'U+91A4',\n",
       " 'U+5B57',\n",
       " 'U+5F35',\n",
       " 'U+8FBC',\n",
       " 'U+5F85',\n",
       " 'U+6D25',\n",
       " 'U+904A',\n",
       " 'U+676F',\n",
       " 'U+83D3',\n",
       " 'U+6BB5',\n",
       " 'U+4F0A',\n",
       " 'U+9AEA',\n",
       " 'U+9154',\n",
       " 'U+5BC4',\n",
       " 'U+738B',\n",
       " 'U+9055',\n",
       " 'U+8A70',\n",
       " 'U+79F0',\n",
       " 'U+590F',\n",
       " 'U+65AF',\n",
       " 'U+5BFA',\n",
       " 'U+9854',\n",
       " 'U+4ECF',\n",
       " 'U+25B2',\n",
       " 'U+55B0',\n",
       " 'U+5A18',\n",
       " 'U+8A71',\n",
       " 'U+6B8B',\n",
       " 'U+7D05',\n",
       " 'U+84B8',\n",
       " 'U+7570',\n",
       " 'U+8AAC',\n",
       " 'U+58EB',\n",
       " 'U+539F',\n",
       " 'U+4F50',\n",
       " 'U+81B3',\n",
       " 'U+80E1',\n",
       " 'U+5B88',\n",
       " 'U+9996',\n",
       " 'U+7BC0',\n",
       " 'U+7230',\n",
       " 'U+9032',\n",
       " 'U+5B89',\n",
       " 'U+6DF1',\n",
       " 'U+56F3',\n",
       " 'U+8338',\n",
       " 'U+8AF8',\n",
       " 'U+8150',\n",
       " 'U+7BED',\n",
       " 'U+9162',\n",
       " 'U+756A',\n",
       " 'U+5438',\n",
       " 'U+5439',\n",
       " 'U+5C24',\n",
       " 'U+9262',\n",
       " 'U+30C6',\n",
       " 'U+52A9',\n",
       " 'U+828B',\n",
       " 'U+899A',\n",
       " 'U+6E05',\n",
       " 'U+8239',\n",
       " 'U+725B',\n",
       " 'U+7D00',\n",
       " 'U+59BB',\n",
       " 'U+9B3C',\n",
       " 'U+30B7',\n",
       " 'U+7E01',\n",
       " 'U+7686',\n",
       " 'U+5B85',\n",
       " 'U+6749',\n",
       " 'U+6975']"
      ]
     },
     "execution_count": 24,
     "metadata": {},
     "output_type": "execute_result"
    }
   ],
   "source": [
    "top_513"
   ]
  },
  {
   "cell_type": "code",
   "execution_count": 25,
   "metadata": {},
   "outputs": [],
   "source": [
    "train_df.reset_index(inplace=True)"
   ]
  },
  {
   "cell_type": "code",
   "execution_count": 26,
   "metadata": {},
   "outputs": [],
   "source": [
    "final_cat = [x if x in top_513 else 'rare' for x in train_df['unicode']]"
   ]
  },
  {
   "cell_type": "code",
   "execution_count": 27,
   "metadata": {},
   "outputs": [
    {
     "data": {
      "text/plain": [
       "rare      68365\n",
       "U+306B    24685\n",
       "U+306E    24136\n",
       "U+3057    22209\n",
       "U+3066    20569\n",
       "          ...  \n",
       "U+7686      126\n",
       "U+5B85      126\n",
       "U+30B7      126\n",
       "U+7E01      126\n",
       "U+6975      126\n",
       "Length: 514, dtype: int64"
      ]
     },
     "execution_count": 27,
     "metadata": {},
     "output_type": "execute_result"
    }
   ],
   "source": [
    "pd.Series(final_cat).value_counts()"
   ]
  },
  {
   "cell_type": "code",
   "execution_count": 28,
   "metadata": {},
   "outputs": [],
   "source": [
    "train_df['final_cat'] = final_cat"
   ]
  },
  {
   "cell_type": "code",
   "execution_count": 29,
   "metadata": {},
   "outputs": [
    {
     "data": {
      "text/html": [
       "<div>\n",
       "<style scoped>\n",
       "    .dataframe tbody tr th:only-of-type {\n",
       "        vertical-align: middle;\n",
       "    }\n",
       "\n",
       "    .dataframe tbody tr th {\n",
       "        vertical-align: top;\n",
       "    }\n",
       "\n",
       "    .dataframe thead th {\n",
       "        text-align: right;\n",
       "    }\n",
       "</style>\n",
       "<table border=\"1\" class=\"dataframe\">\n",
       "  <thead>\n",
       "    <tr style=\"text-align: right;\">\n",
       "      <th></th>\n",
       "      <th>unicode</th>\n",
       "      <th>img</th>\n",
       "      <th>char</th>\n",
       "      <th>final_cat</th>\n",
       "    </tr>\n",
       "  </thead>\n",
       "  <tbody>\n",
       "    <tr>\n",
       "      <th>0</th>\n",
       "      <td>U+003F</td>\n",
       "      <td>&lt;PIL.Image.Image image mode=L size=118x149 at ...</td>\n",
       "      <td>?</td>\n",
       "      <td>rare</td>\n",
       "    </tr>\n",
       "    <tr>\n",
       "      <th>1</th>\n",
       "      <td>U+2000B</td>\n",
       "      <td>&lt;PIL.Image.Image image mode=L size=99x108 at 0...</td>\n",
       "      <td>𠀋</td>\n",
       "      <td>rare</td>\n",
       "    </tr>\n",
       "    <tr>\n",
       "      <th>2</th>\n",
       "      <td>U+2000B</td>\n",
       "      <td>&lt;PIL.Image.Image image mode=L size=96x113 at 0...</td>\n",
       "      <td>𠀋</td>\n",
       "      <td>rare</td>\n",
       "    </tr>\n",
       "    <tr>\n",
       "      <th>3</th>\n",
       "      <td>U+2000B</td>\n",
       "      <td>&lt;PIL.Image.Image image mode=L size=105x134 at ...</td>\n",
       "      <td>𠀋</td>\n",
       "      <td>rare</td>\n",
       "    </tr>\n",
       "    <tr>\n",
       "      <th>4</th>\n",
       "      <td>U+2000B</td>\n",
       "      <td>&lt;PIL.Image.Image image mode=L size=100x110 at ...</td>\n",
       "      <td>𠀋</td>\n",
       "      <td>rare</td>\n",
       "    </tr>\n",
       "  </tbody>\n",
       "</table>\n",
       "</div>"
      ],
      "text/plain": [
       "   unicode                                                img char final_cat\n",
       "0   U+003F  <PIL.Image.Image image mode=L size=118x149 at ...    ?      rare\n",
       "1  U+2000B  <PIL.Image.Image image mode=L size=99x108 at 0...    𠀋      rare\n",
       "2  U+2000B  <PIL.Image.Image image mode=L size=96x113 at 0...    𠀋      rare\n",
       "3  U+2000B  <PIL.Image.Image image mode=L size=105x134 at ...    𠀋      rare\n",
       "4  U+2000B  <PIL.Image.Image image mode=L size=100x110 at ...    𠀋      rare"
      ]
     },
     "execution_count": 29,
     "metadata": {},
     "output_type": "execute_result"
    }
   ],
   "source": [
    "train_df.head()"
   ]
  },
  {
   "cell_type": "markdown",
   "metadata": {},
   "source": [
    "Lastly is the question of how to handle the variety of image sizes. Most of the images are roughly square-ish, but on the extreme end, some characters are nearly vertical stacks of pixels, and others are nearly horizontal lines. "
   ]
  },
  {
   "cell_type": "code",
   "execution_count": 30,
   "metadata": {},
   "outputs": [
    {
     "name": "stdout",
     "output_type": "stream",
     "text": [
      "(16, 111)\n"
     ]
    },
    {
     "data": {
      "image/png": "[encoded data removed]",
      "text/plain": [
       "<PIL.Image.Image image mode=L size=16x111 at 0x7FBE3853A048>"
      ]
     },
     "execution_count": 30,
     "metadata": {},
     "output_type": "execute_result"
    }
   ],
   "source": [
    "print(train_df['img'][100000].size)\n",
    "train_df['img'][100000]"
   ]
  },
  {
   "cell_type": "code",
   "execution_count": 31,
   "metadata": {},
   "outputs": [
    {
     "name": "stdout",
     "output_type": "stream",
     "text": [
      "(105, 17)\n"
     ]
    },
    {
     "data": {
      "image/png": "[encoded data removed]",
      "text/plain": [
       "<PIL.Image.Image image mode=L size=105x17 at 0x7FBE6C093F98>"
      ]
     },
     "execution_count": 31,
     "metadata": {},
     "output_type": "execute_result"
    }
   ],
   "source": [
    "print(train_df[train_df['char']=='一'].reset_index()['img'][0].size)\n",
    "train_df[train_df['char']=='一'].reset_index()['img'][0]"
   ]
  },
  {
   "cell_type": "markdown",
   "metadata": {},
   "source": [
    "For baseline models, I resize all models to 80x80 pixels:"
   ]
  },
  {
   "cell_type": "code",
   "execution_count": 37,
   "metadata": {},
   "outputs": [
    {
     "name": "stdout",
     "output_type": "stream",
     "text": [
      "0\n",
      "50000\n",
      "100000\n",
      "150000\n",
      "200000\n",
      "250000\n",
      "300000\n",
      "350000\n",
      "400000\n",
      "450000\n",
      "500000\n",
      "550000\n",
      "600000\n",
      "650000\n"
     ]
    }
   ],
   "source": [
    "padding = []\n",
    "for i, img in enumerate(train_df['img']):\n",
    "    if i % 50000 == 0:\n",
    "        print(i)\n",
    "    desired_size = 80\n",
    "    old_size = img.size\n",
    "    ratio = float(desired_size)/max(old_size)\n",
    "    new_size = tuple([int(x*ratio) for x in old_size])\n",
    "    new_img = img.resize(new_size, Image.ANTIALIAS)\n",
    "    padded_img = Image.new('L', (desired_size, desired_size))\n",
    "    padded_img.paste(new_img, ((desired_size-new_size[0])//2, (desired_size-new_size[1])//2))\n",
    "    padding.append(padded_img)"
   ]
  },
  {
   "cell_type": "code",
   "execution_count": 45,
   "metadata": {},
   "outputs": [
    {
     "data": {
      "image/png": "[encoded data removed]",
      "text/plain": [
       "<PIL.Image.Image image mode=L size=80x80 at 0x7FBC35889B70>"
      ]
     },
     "execution_count": 45,
     "metadata": {},
     "output_type": "execute_result"
    }
   ],
   "source": [
    "padding[200000]"
   ]
  },
  {
   "cell_type": "code",
   "execution_count": 46,
   "metadata": {},
   "outputs": [
    {
     "data": {
      "text/plain": [
       "'と'"
      ]
     },
     "execution_count": 46,
     "metadata": {},
     "output_type": "execute_result"
    }
   ],
   "source": [
    "train_df['char'][200000]"
   ]
  },
  {
   "cell_type": "code",
   "execution_count": 41,
   "metadata": {},
   "outputs": [],
   "source": [
    "with open('../data/padding/X_padded_80.pkl', 'wb') as fp:\n",
    "    pickle.dump(padding, fp)"
   ]
  },
  {
   "cell_type": "code",
   "execution_count": 32,
   "metadata": {},
   "outputs": [
    {
     "name": "stderr",
     "output_type": "stream",
     "text": [
      "/Users/stlanier/opt/anaconda3/envs/learn-env/lib/python3.6/site-packages/numpy/core/_asarray.py:83: VisibleDeprecationWarning: Creating an ndarray from ragged nested sequences (which is a list-or-tuple of lists-or-tuples-or ndarrays with different lengths or shapes) is deprecated. If you meant to do this, you must specify 'dtype=object' when creating the ndarray\n",
      "  return array(a, dtype, copy=False, order=order)\n"
     ]
    }
   ],
   "source": [
    "# X = [np.asarray(img).astype('float32') for img in train_df['img']]"
   ]
  },
  {
   "cell_type": "code",
   "execution_count": null,
   "metadata": {},
   "outputs": [],
   "source": [
    "# with open('../data/resize/X.pkl', 'wb') as fp:\n",
    "#     pickle.dump(X, fp)"
   ]
  },
  {
   "cell_type": "code",
   "execution_count": null,
   "metadata": {},
   "outputs": [],
   "source": [
    "# X_80 = np.array([np.array(img.resize((80,80))) for img in train_df['img']])\n",
    "# y = np.array(train_df['final_cat'])"
   ]
  },
  {
   "cell_type": "code",
   "execution_count": null,
   "metadata": {},
   "outputs": [],
   "source": [
    "# with open('../data/resize/X_80.pkl', 'wb') as fp:\n",
    "#     pickle.dump(X_80, fp)"
   ]
  },
  {
   "cell_type": "code",
   "execution_count": null,
   "metadata": {},
   "outputs": [],
   "source": [
    "# with open('../data/resize/y.pkl', 'wb') as fp:\n",
    "#     pickle.dump(y, fp)"
   ]
  },
  {
   "cell_type": "code",
   "execution_count": null,
   "metadata": {},
   "outputs": [],
   "source": []
  }
 ],
 "metadata": {
  "kernelspec": {
   "display_name": "Python [conda env:learn-env] *",
   "language": "python",
   "name": "conda-env-learn-env-py"
  },
  "language_info": {
   "codemirror_mode": {
    "name": "ipython",
    "version": 3
   },
   "file_extension": ".py",
   "mimetype": "text/x-python",
   "name": "python",
   "nbconvert_exporter": "python",
   "pygments_lexer": "ipython3",
   "version": "3.6.9"
  }
 },
 "nbformat": 4,
 "nbformat_minor": 4
}
