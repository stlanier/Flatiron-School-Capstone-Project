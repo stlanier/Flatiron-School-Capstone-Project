{
 "cells": [
  {
   "cell_type": "code",
   "execution_count": 1,
   "metadata": {},
   "outputs": [],
   "source": [
    "import numpy as np\n",
    "import pandas as pd\n",
    "import matplotlib.pyplot as plt\n",
    "from PIL import Image, ImageDraw, ImageFont\n",
    "from os import listdir\n",
    "import re\n",
    "import pickle\n",
    "%matplotlib inline"
   ]
  },
  {
   "cell_type": "code",
   "execution_count": 2,
   "metadata": {},
   "outputs": [],
   "source": [
    "labels = pd.read_csv('../data/original/train.csv')\n",
    "labels_and_locations = []\n",
    "for label in labels['labels']:\n",
    "    x = np.array(label.split(' ')).reshape(-1, 5)\n",
    "    labels_and_locations.append(x)\n",
    "labels['labels']=labels_and_locations"
   ]
  },
  {
   "cell_type": "code",
   "execution_count": 3,
   "metadata": {},
   "outputs": [
    {
     "data": {
      "text/html": [
       "<div>\n",
       "<style scoped>\n",
       "    .dataframe tbody tr th:only-of-type {\n",
       "        vertical-align: middle;\n",
       "    }\n",
       "\n",
       "    .dataframe tbody tr th {\n",
       "        vertical-align: top;\n",
       "    }\n",
       "\n",
       "    .dataframe thead th {\n",
       "        text-align: right;\n",
       "    }\n",
       "</style>\n",
       "<table border=\"1\" class=\"dataframe\">\n",
       "  <thead>\n",
       "    <tr style=\"text-align: right;\">\n",
       "      <th></th>\n",
       "      <th>image_id</th>\n",
       "      <th>labels</th>\n",
       "    </tr>\n",
       "  </thead>\n",
       "  <tbody>\n",
       "    <tr>\n",
       "      <th>0</th>\n",
       "      <td>100241706_00004_2</td>\n",
       "      <td>[[U+306F, 1231, 3465, 133, 53], [U+304C, 275, ...</td>\n",
       "    </tr>\n",
       "    <tr>\n",
       "      <th>1</th>\n",
       "      <td>100241706_00005_1</td>\n",
       "      <td>[[U+306F, 1087, 2018, 103, 65], [U+304B, 1456,...</td>\n",
       "    </tr>\n",
       "    <tr>\n",
       "      <th>2</th>\n",
       "      <td>100241706_00005_2</td>\n",
       "      <td>[[U+306F, 572, 1376, 125, 57], [U+306E, 1551, ...</td>\n",
       "    </tr>\n",
       "    <tr>\n",
       "      <th>3</th>\n",
       "      <td>100241706_00006_1</td>\n",
       "      <td>[[U+3082, 1455, 3009, 65, 44], [U+516B, 1654, ...</td>\n",
       "    </tr>\n",
       "    <tr>\n",
       "      <th>4</th>\n",
       "      <td>100241706_00007_2</td>\n",
       "      <td>[[U+309D, 1201, 2949, 27, 33], [U+309D, 1196, ...</td>\n",
       "    </tr>\n",
       "  </tbody>\n",
       "</table>\n",
       "</div>"
      ],
      "text/plain": [
       "            image_id                                             labels\n",
       "0  100241706_00004_2  [[U+306F, 1231, 3465, 133, 53], [U+304C, 275, ...\n",
       "1  100241706_00005_1  [[U+306F, 1087, 2018, 103, 65], [U+304B, 1456,...\n",
       "2  100241706_00005_2  [[U+306F, 572, 1376, 125, 57], [U+306E, 1551, ...\n",
       "3  100241706_00006_1  [[U+3082, 1455, 3009, 65, 44], [U+516B, 1654, ...\n",
       "4  100241706_00007_2  [[U+309D, 1201, 2949, 27, 33], [U+309D, 1196, ..."
      ]
     },
     "execution_count": 3,
     "metadata": {},
     "output_type": "execute_result"
    }
   ],
   "source": [
    "labels.head()"
   ]
  },
  {
   "cell_type": "code",
   "execution_count": 6,
   "metadata": {},
   "outputs": [
    {
     "data": {
      "text/plain": [
       "array([['U+306F', '1231', '3465', '133', '53'],\n",
       "       ['U+304C', '275', '1652', '84', '69'],\n",
       "       ['U+3044', '1495', '1218', '143', '69'],\n",
       "       ['U+3051', '220', '3331', '53', '91'],\n",
       "       ['U+306B', '911', '1452', '61', '92'],\n",
       "       ['U+306B', '927', '3445', '71', '92'],\n",
       "       ['U+306E', '904', '2879', '95', '92'],\n",
       "       ['U+5DE5', '1168', '1396', '187', '95'],\n",
       "       ['U+3053', '289', '3166', '69', '97'],\n",
       "       ['U+4E09', '897', '3034', '121', '107'],\n",
       "       ['U+306E', '547', '1912', '141', '108'],\n",
       "       ['U+3084', '1489', '2675', '151', '109'],\n",
       "       ['U+3068', '1561', '2979', '55', '116'],\n",
       "       ['U+5DF1', '1513', '2500', '127', '117'],\n",
       "       ['U+3082', '1213', '1523', '72', '119'],\n",
       "       ['U+3055', '1219', '3266', '95', '124'],\n",
       "       ['U+306E', '259', '2230', '68', '125'],\n",
       "       ['U+306E', '1184', '2423', '169', '125'],\n",
       "       ['U+4E16', '849', '2236', '163', '127'],\n",
       "       ['U+7D30', '1144', '1212', '200', '128'],\n",
       "       ['U+305D', '316', '3287', '57', '133'],\n",
       "       ['U+4EBA', '217', '2044', '183', '135'],\n",
       "       ['U+3051', '277', '2974', '112', '137'],\n",
       "       ['U+308C', '201', '3423', '181', '137'],\n",
       "       ['U+3060', '243', '2830', '159', '143'],\n",
       "       ['U+5F37', '1479', '2034', '163', '145'],\n",
       "       ['U+306E', '1497', '1567', '123', '152'],\n",
       "       ['U+305F', '1164', '952', '145', '153'],\n",
       "       ['U+3066', '552', '1199', '97', '155'],\n",
       "       ['U+4FF3', '537', '2095', '176', '155'],\n",
       "       ['U+6839', '203', '1439', '184', '156'],\n",
       "       ['U+304B', '1188', '2606', '156', '157'],\n",
       "       ['U+8AE7', '549', '2328', '156', '159'],\n",
       "       ['U+308C', '1495', '2784', '168', '159'],\n",
       "       ['U+5B50', '891', '1255', '100', '164'],\n",
       "       ['U+3092', '584', '2546', '117', '164'],\n",
       "       ['U+53CA', '849', '1588', '151', '164'],\n",
       "       ['U+8005', '1192', '2198', '133', '169'],\n",
       "       ['U+305A', '889', '1763', '103', '171'],\n",
       "       ['U+907F', '513', '945', '181', '171'],\n",
       "       ['U+6B63', '539', '1439', '136', '172'],\n",
       "       ['U+6587', '192', '2382', '216', '173'],\n",
       "       ['U+3075', '1512', '3371', '147', '176'],\n",
       "       ['U+6642', '1465', '1338', '168', '179'],\n",
       "       ['U+601D', '1492', '3175', '159', '180'],\n",
       "       ['U+306A', '1191', '2775', '135', '181'],\n",
       "       ['U+3081', '593', '3313', '151', '184'],\n",
       "       ['U+6D6E', '868', '1982', '155', '184'],\n",
       "       ['U+3092', '873', '2400', '145', '192'],\n",
       "       ['U+6C17', '1504', '1754', '145', '200'],\n",
       "       ['U+8077', '208', '1770', '197', '204'],\n",
       "       ['U+8001', '1167', '1687', '152', '208'],\n",
       "       ['U+6B66', '1184', '1942', '171', '208'],\n",
       "       ['U+697D', '568', '2762', '133', '209'],\n",
       "       ['U+3082', '247', '1159', '116', '212'],\n",
       "       ['U+76F2', '253', '2578', '119', '215'],\n",
       "       ['U+82E5', '1465', '951', '172', '216'],\n",
       "       ['U+81EA', '1852', '1736', '104', '219'],\n",
       "       ['U+3069', '220', '928', '139', '229'],\n",
       "       ['U+98A8', '541', '1619', '147', '236'],\n",
       "       ['U+306B', '1521', '2239', '83', '237'],\n",
       "       ['U+88CF', '851', '2608', '169', '237'],\n",
       "       ['U+7573', '905', '3189', '103', '244'],\n",
       "       ['U+606F', '876', '937', '123', '244'],\n",
       "       ['U+5E8F', '1816', '2096', '152', '296'],\n",
       "       ['U+3057', '629', '2985', '27', '300'],\n",
       "       ['U+3057', '1243', '2942', '39', '313']], dtype='<U6')"
      ]
     },
     "execution_count": 6,
     "metadata": {},
     "output_type": "execute_result"
    }
   ],
   "source": [
    "labels.loc[0, 'labels']"
   ]
  },
  {
   "cell_type": "code",
   "execution_count": 7,
   "metadata": {
    "scrolled": true
   },
   "outputs": [
    {
     "name": "stdout",
     "output_type": "stream",
     "text": [
      "0\n",
      "100\n",
      "200\n",
      "300\n",
      "400\n",
      "500\n",
      "600\n",
      "700\n",
      "800\n",
      "900\n",
      "1000\n",
      "1100\n",
      "1200\n",
      "1300\n",
      "1400\n",
      "1500\n",
      "1600\n",
      "1700\n",
      "1800\n",
      "1900\n",
      "2000\n",
      "2100\n",
      "2200\n",
      "2300\n",
      "2400\n",
      "2500\n",
      "2600\n",
      "2700\n",
      "2800\n",
      "2900\n",
      "3000\n",
      "3100\n",
      "3200\n",
      "3300\n",
      "3400\n",
      "3500\n",
      "3600\n"
     ]
    }
   ],
   "source": [
    "train_filenames = listdir('../data/original/train_images/')\n",
    "\n",
    "train_images = []\n",
    "y = []\n",
    "counter=0\n",
    "for fp in train_filenames:\n",
    "    if (counter%100==0):\n",
    "        print(counter)\n",
    "    counter+=1\n",
    "    img = Image.open(f'../data/original/train_images/{fp}').convert(mode='L')\n",
    "    for subimg in list(labels[labels['image_id']==fp[:-4]]['labels'])[0]:\n",
    "        y.append(subimg[0])\n",
    "        coords = list(subimg[1:])\n",
    "        coords = tuple([int(coord) for coord in coords])\n",
    "        coords = (coords[0], coords[1], coords[0]+coords[2], coords[1]+coords[3])\n",
    "        train_images.append(img.crop(coords))"
   ]
  },
  {
   "cell_type": "code",
   "execution_count": 8,
   "metadata": {},
   "outputs": [
    {
     "data": {
      "text/plain": [
       "683464"
      ]
     },
     "execution_count": 8,
     "metadata": {},
     "output_type": "execute_result"
    }
   ],
   "source": [
    "len(y)"
   ]
  },
  {
   "cell_type": "code",
   "execution_count": 9,
   "metadata": {},
   "outputs": [
    {
     "data": {
      "text/plain": [
       "683464"
      ]
     },
     "execution_count": 9,
     "metadata": {},
     "output_type": "execute_result"
    }
   ],
   "source": [
    "len(train_images)"
   ]
  },
  {
   "cell_type": "code",
   "execution_count": 10,
   "metadata": {},
   "outputs": [],
   "source": [
    "train_df = pd.DataFrame([train_images, y]).T"
   ]
  },
  {
   "cell_type": "code",
   "execution_count": 11,
   "metadata": {},
   "outputs": [],
   "source": [
    "train_df.columns=['img', 'char_unicode']"
   ]
  },
  {
   "cell_type": "code",
   "execution_count": 12,
   "metadata": {},
   "outputs": [
    {
     "data": {
      "text/html": [
       "<div>\n",
       "<style scoped>\n",
       "    .dataframe tbody tr th:only-of-type {\n",
       "        vertical-align: middle;\n",
       "    }\n",
       "\n",
       "    .dataframe tbody tr th {\n",
       "        vertical-align: top;\n",
       "    }\n",
       "\n",
       "    .dataframe thead th {\n",
       "        text-align: right;\n",
       "    }\n",
       "</style>\n",
       "<table border=\"1\" class=\"dataframe\">\n",
       "  <thead>\n",
       "    <tr style=\"text-align: right;\">\n",
       "      <th></th>\n",
       "      <th>img</th>\n",
       "      <th>char_unicode</th>\n",
       "    </tr>\n",
       "  </thead>\n",
       "  <tbody>\n",
       "    <tr>\n",
       "      <th>0</th>\n",
       "      <td>&lt;PIL.Image.Image image mode=L size=105x17 at 0...</td>\n",
       "      <td>U+4E00</td>\n",
       "    </tr>\n",
       "    <tr>\n",
       "      <th>1</th>\n",
       "      <td>&lt;PIL.Image.Image image mode=L size=33x18 at 0x...</td>\n",
       "      <td>U+30EC</td>\n",
       "    </tr>\n",
       "    <tr>\n",
       "      <th>2</th>\n",
       "      <td>&lt;PIL.Image.Image image mode=L size=102x18 at 0...</td>\n",
       "      <td>U+4E00</td>\n",
       "    </tr>\n",
       "    <tr>\n",
       "      <th>3</th>\n",
       "      <td>&lt;PIL.Image.Image image mode=L size=39x27 at 0x...</td>\n",
       "      <td>U+30EC</td>\n",
       "    </tr>\n",
       "    <tr>\n",
       "      <th>4</th>\n",
       "      <td>&lt;PIL.Image.Image image mode=L size=33x28 at 0x...</td>\n",
       "      <td>U+30EC</td>\n",
       "    </tr>\n",
       "  </tbody>\n",
       "</table>\n",
       "</div>"
      ],
      "text/plain": [
       "                                                 img char_unicode\n",
       "0  <PIL.Image.Image image mode=L size=105x17 at 0...       U+4E00\n",
       "1  <PIL.Image.Image image mode=L size=33x18 at 0x...       U+30EC\n",
       "2  <PIL.Image.Image image mode=L size=102x18 at 0...       U+4E00\n",
       "3  <PIL.Image.Image image mode=L size=39x27 at 0x...       U+30EC\n",
       "4  <PIL.Image.Image image mode=L size=33x28 at 0x...       U+30EC"
      ]
     },
     "execution_count": 12,
     "metadata": {},
     "output_type": "execute_result"
    }
   ],
   "source": [
    "train_df.head()"
   ]
  },
  {
   "cell_type": "code",
   "execution_count": 13,
   "metadata": {},
   "outputs": [],
   "source": [
    "with open('../data/extracted_train/train_df.txt', 'wb') as fp:\n",
    "    pickle.dump(train_df, fp)"
   ]
  },
  {
   "cell_type": "code",
   "execution_count": 14,
   "metadata": {},
   "outputs": [
    {
     "data": {
      "image/png": "[encoded data removed]",
      "text/plain": [
       "<PIL.Image.Image image mode=L size=33x18 at 0x7FF91D151828>"
      ]
     },
     "execution_count": 14,
     "metadata": {},
     "output_type": "execute_result"
    }
   ],
   "source": [
    "train_df['img'][1]"
   ]
  },
  {
   "cell_type": "code",
   "execution_count": 15,
   "metadata": {},
   "outputs": [
    {
     "data": {
      "text/html": [
       "<div>\n",
       "<style scoped>\n",
       "    .dataframe tbody tr th:only-of-type {\n",
       "        vertical-align: middle;\n",
       "    }\n",
       "\n",
       "    .dataframe tbody tr th {\n",
       "        vertical-align: top;\n",
       "    }\n",
       "\n",
       "    .dataframe thead th {\n",
       "        text-align: right;\n",
       "    }\n",
       "</style>\n",
       "<table border=\"1\" class=\"dataframe\">\n",
       "  <thead>\n",
       "    <tr style=\"text-align: right;\">\n",
       "      <th></th>\n",
       "      <th>unicode</th>\n",
       "      <th>char</th>\n",
       "    </tr>\n",
       "  </thead>\n",
       "  <tbody>\n",
       "    <tr>\n",
       "      <th>0</th>\n",
       "      <td>U+0031</td>\n",
       "      <td>1</td>\n",
       "    </tr>\n",
       "    <tr>\n",
       "      <th>1</th>\n",
       "      <td>U+0032</td>\n",
       "      <td>2</td>\n",
       "    </tr>\n",
       "    <tr>\n",
       "      <th>2</th>\n",
       "      <td>U+0034</td>\n",
       "      <td>4</td>\n",
       "    </tr>\n",
       "    <tr>\n",
       "      <th>3</th>\n",
       "      <td>U+0036</td>\n",
       "      <td>6</td>\n",
       "    </tr>\n",
       "    <tr>\n",
       "      <th>4</th>\n",
       "      <td>U+0039</td>\n",
       "      <td>9</td>\n",
       "    </tr>\n",
       "  </tbody>\n",
       "</table>\n",
       "</div>"
      ],
      "text/plain": [
       "  unicode char\n",
       "0  U+0031    1\n",
       "1  U+0032    2\n",
       "2  U+0034    4\n",
       "3  U+0036    6\n",
       "4  U+0039    9"
      ]
     },
     "execution_count": 15,
     "metadata": {},
     "output_type": "execute_result"
    }
   ],
   "source": [
    "conversion = pd.read_csv('../data/original/unicode_translation.csv')\n",
    "conversion.columns=['unicode', 'char']\n",
    "conversion.head()"
   ]
  },
  {
   "cell_type": "code",
   "execution_count": 16,
   "metadata": {},
   "outputs": [],
   "source": [
    "train_df.columns = ['img', 'unicode']"
   ]
  },
  {
   "cell_type": "code",
   "execution_count": 17,
   "metadata": {},
   "outputs": [],
   "source": [
    "train_df = train_df.set_index('unicode').join(conversion.set_index('unicode'))"
   ]
  },
  {
   "cell_type": "code",
   "execution_count": 18,
   "metadata": {
    "scrolled": true
   },
   "outputs": [
    {
     "data": {
      "text/html": [
       "<div>\n",
       "<style scoped>\n",
       "    .dataframe tbody tr th:only-of-type {\n",
       "        vertical-align: middle;\n",
       "    }\n",
       "\n",
       "    .dataframe tbody tr th {\n",
       "        vertical-align: top;\n",
       "    }\n",
       "\n",
       "    .dataframe thead th {\n",
       "        text-align: right;\n",
       "    }\n",
       "</style>\n",
       "<table border=\"1\" class=\"dataframe\">\n",
       "  <thead>\n",
       "    <tr style=\"text-align: right;\">\n",
       "      <th></th>\n",
       "      <th>img</th>\n",
       "      <th>char</th>\n",
       "    </tr>\n",
       "    <tr>\n",
       "      <th>unicode</th>\n",
       "      <th></th>\n",
       "      <th></th>\n",
       "    </tr>\n",
       "  </thead>\n",
       "  <tbody>\n",
       "    <tr>\n",
       "      <th>U+003F</th>\n",
       "      <td>&lt;PIL.Image.Image image mode=L size=118x149 at ...</td>\n",
       "      <td>?</td>\n",
       "    </tr>\n",
       "    <tr>\n",
       "      <th>U+2000B</th>\n",
       "      <td>&lt;PIL.Image.Image image mode=L size=99x108 at 0...</td>\n",
       "      <td>𠀋</td>\n",
       "    </tr>\n",
       "    <tr>\n",
       "      <th>U+2000B</th>\n",
       "      <td>&lt;PIL.Image.Image image mode=L size=96x113 at 0...</td>\n",
       "      <td>𠀋</td>\n",
       "    </tr>\n",
       "    <tr>\n",
       "      <th>U+2000B</th>\n",
       "      <td>&lt;PIL.Image.Image image mode=L size=105x134 at ...</td>\n",
       "      <td>𠀋</td>\n",
       "    </tr>\n",
       "    <tr>\n",
       "      <th>U+2000B</th>\n",
       "      <td>&lt;PIL.Image.Image image mode=L size=100x110 at ...</td>\n",
       "      <td>𠀋</td>\n",
       "    </tr>\n",
       "  </tbody>\n",
       "</table>\n",
       "</div>"
      ],
      "text/plain": [
       "                                                       img char\n",
       "unicode                                                        \n",
       "U+003F   <PIL.Image.Image image mode=L size=118x149 at ...    ?\n",
       "U+2000B  <PIL.Image.Image image mode=L size=99x108 at 0...    𠀋\n",
       "U+2000B  <PIL.Image.Image image mode=L size=96x113 at 0...    𠀋\n",
       "U+2000B  <PIL.Image.Image image mode=L size=105x134 at ...    𠀋\n",
       "U+2000B  <PIL.Image.Image image mode=L size=100x110 at ...    𠀋"
      ]
     },
     "execution_count": 18,
     "metadata": {},
     "output_type": "execute_result"
    }
   ],
   "source": [
    "train_df.head()"
   ]
  },
  {
   "cell_type": "code",
   "execution_count": 19,
   "metadata": {},
   "outputs": [
    {
     "name": "stdout",
     "output_type": "stream",
     "text": [
      "前\n"
     ]
    },
    {
     "data": {
      "image/png": "[encoded data removed]",
      "text/plain": [
       "<PIL.Image.Image image mode=L size=88x79 at 0x7FF7D81943C8>"
      ]
     },
     "execution_count": 19,
     "metadata": {},
     "output_type": "execute_result"
    }
   ],
   "source": [
    "ind = 500000\n",
    "\n",
    "print(train_df.reset_index()['char'][ind])\n",
    "train_df.reset_index()['img'][ind]"
   ]
  },
  {
   "cell_type": "code",
   "execution_count": 20,
   "metadata": {},
   "outputs": [],
   "source": [
    "# with open('../data/extracted_train/train_df.txt', 'wb') as fp:\n",
    "#     pickle.dump(train_df, fp)"
   ]
  },
  {
   "cell_type": "code",
   "execution_count": null,
   "metadata": {},
   "outputs": [],
   "source": []
  }
 ],
 "metadata": {
  "kernelspec": {
   "display_name": "Python [conda env:learn-env] *",
   "language": "python",
   "name": "conda-env-learn-env-py"
  },
  "language_info": {
   "codemirror_mode": {
    "name": "ipython",
    "version": 3
   },
   "file_extension": ".py",
   "mimetype": "text/x-python",
   "name": "python",
   "nbconvert_exporter": "python",
   "pygments_lexer": "ipython3",
   "version": "3.6.9"
  }
 },
 "nbformat": 4,
 "nbformat_minor": 4
}
