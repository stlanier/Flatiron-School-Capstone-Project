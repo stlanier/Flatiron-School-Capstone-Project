{
  "nbformat": 4,
  "nbformat_minor": 0,
  "metadata": {
    "kernelspec": {
      "display_name": "Python [conda env:learn-env] *",
      "language": "python",
      "name": "conda-env-learn-env-py"
    },
    "language_info": {
      "codemirror_mode": {
        "name": "ipython",
        "version": 3
      },
      "file_extension": ".py",
      "mimetype": "text/x-python",
      "name": "python",
      "nbconvert_exporter": "python",
      "pygments_lexer": "ipython3",
      "version": "3.6.9"
    },
    "colab": {
      "name": "baseline_cnn.ipynb",
      "provenance": [],
      "collapsed_sections": []
    },
    "accelerator": "GPU"
  },
  "cells": [
    {
      "cell_type": "code",
      "metadata": {
        "id": "0KC0Wl7lOETq"
      },
      "source": [
        "import numpy as np\n",
        "import pandas as pd\n",
        "import matplotlib.pyplot as plt\n",
        "import seaborn as sns\n",
        "import pickle\n",
        "from sklearn.model_selection import train_test_split\n",
        "from sklearn.metrics import accuracy_score\n",
        "from PIL import Image, ImageDraw, ImageFont\n",
        "from tensorflow import keras\n",
        "%matplotlib inline"
      ],
      "execution_count": 1,
      "outputs": []
    },
    {
      "cell_type": "code",
      "metadata": {
        "id": "-9x3ZMsdgJTk",
        "outputId": "717470d2-21b1-48c5-e17b-913696ea5428",
        "colab": {
          "base_uri": "https://localhost:8080/"
        }
      },
      "source": [
        "from google.colab import drive\n",
        "drive.mount('/content/drive')"
      ],
      "execution_count": 2,
      "outputs": [
        {
          "output_type": "stream",
          "text": [
            "Mounted at /content/drive\n"
          ],
          "name": "stdout"
        }
      ]
    },
    {
      "cell_type": "code",
      "metadata": {
        "id": "iI0qq4lqOETv"
      },
      "source": [
        "# with open('../data/resize/X_80.pkl', 'rb') as fp:\n",
        "#     X_80 = pickle.load(fp)\n",
        "# with open('../data/resize/y.pkl', 'rb') as fp:\n",
        "#     y = pickle.load(fp)"
      ],
      "execution_count": 3,
      "outputs": []
    },
    {
      "cell_type": "code",
      "metadata": {
        "id": "YgiNOhJsgcDp"
      },
      "source": [
        "with open('/content/drive/My Drive/Data/resize/X_80.pkl', 'rb') as fp:\n",
        "  X_80 = pickle.load(fp)\n",
        "\n",
        "with open('/content/drive/My Drive/Data/resize/y.pkl', 'rb') as fp:\n",
        "  y = pickle.load(fp)"
      ],
      "execution_count": 4,
      "outputs": []
    },
    {
      "cell_type": "code",
      "metadata": {
        "id": "dzpgi2Egy58L"
      },
      "source": [
        "y = np.array(pd.get_dummies(y))"
      ],
      "execution_count": 5,
      "outputs": []
    },
    {
      "cell_type": "code",
      "metadata": {
        "id": "73P9UielOET5"
      },
      "source": [
        "X_80_train, X_80_test, y_train, y_test = train_test_split(X_80, y, test_size=int(len(y)*.15), random_state=42)\n",
        "X_80_train, X_80_val, y_train, y_val = train_test_split(X_80_train, y_train, test_size=int(len(y)*.15), random_state=42)"
      ],
      "execution_count": 6,
      "outputs": []
    },
    {
      "cell_type": "code",
      "metadata": {
        "id": "U7Snd0sEiVbP",
        "outputId": "e6b0383b-bcce-4274-82d6-51d1b951f727",
        "colab": {
          "base_uri": "https://localhost:8080/"
        }
      },
      "source": [
        "print(len(X_80_train))\n",
        "print(len(X_80_val))\n",
        "print(len(X_80_test))"
      ],
      "execution_count": 7,
      "outputs": [
        {
          "output_type": "stream",
          "text": [
            "478426\n",
            "102519\n",
            "102519\n"
          ],
          "name": "stdout"
        }
      ]
    },
    {
      "cell_type": "code",
      "metadata": {
        "id": "HaLSQLdnirfj",
        "outputId": "0e93d0c9-b8dc-4e7f-cd62-4c353ed5eb5f",
        "colab": {
          "base_uri": "https://localhost:8080/"
        }
      },
      "source": [
        "print(len(y_train))\n",
        "print(len(y_val))\n",
        "print(len(y_test))"
      ],
      "execution_count": 8,
      "outputs": [
        {
          "output_type": "stream",
          "text": [
            "478426\n",
            "102519\n",
            "102519\n"
          ],
          "name": "stdout"
        }
      ]
    },
    {
      "cell_type": "code",
      "metadata": {
        "id": "wiyJr8k3OET8"
      },
      "source": [
        "model = keras.models.Sequential()\n",
        "model.add(keras.layers.Convolution2D(64, (3,3), activation='relu', padding='same', input_shape=(80,80,1)))\n",
        "model.add(keras.layers.MaxPooling2D(2,2))\n",
        "\n",
        "model.add(keras.layers.Convolution2D(64, (3,3), activation='relu', padding='same'))\n",
        "model.add(keras.layers.MaxPooling2D(2,2))\n",
        "\n",
        "model.add(keras.layers.Convolution2D(64, (5,5), activation='relu', padding='same'))\n",
        "model.add(keras.layers.MaxPooling2D(2,2))\n",
        "\n",
        "model.add(keras.layers.Convolution2D(64, (5,5), activation='relu', padding='same'))\n",
        "model.add(keras.layers.MaxPooling2D(2,2))\n",
        "\n",
        "model.add(keras.layers.Flatten())\n",
        "model.add(keras.layers.Dense(1000, activation='relu'))\n",
        "model.add(keras.layers.Dense(514, activation='softmax'))"
      ],
      "execution_count": 9,
      "outputs": []
    },
    {
      "cell_type": "code",
      "metadata": {
        "id": "Qwv9Jc6hiyJs",
        "outputId": "7d0b5299-8b45-4415-f238-1a975d21887a",
        "colab": {
          "base_uri": "https://localhost:8080/"
        }
      },
      "source": [
        "model.compile(loss='categorical_crossentropy', optimizer='adam', metrics=['acc'])\n",
        "model.summary()"
      ],
      "execution_count": 10,
      "outputs": [
        {
          "output_type": "stream",
          "text": [
            "Model: \"sequential\"\n",
            "_________________________________________________________________\n",
            "Layer (type)                 Output Shape              Param #   \n",
            "=================================================================\n",
            "conv2d (Conv2D)              (None, 80, 80, 64)        640       \n",
            "_________________________________________________________________\n",
            "max_pooling2d (MaxPooling2D) (None, 40, 40, 64)        0         \n",
            "_________________________________________________________________\n",
            "conv2d_1 (Conv2D)            (None, 40, 40, 64)        36928     \n",
            "_________________________________________________________________\n",
            "max_pooling2d_1 (MaxPooling2 (None, 20, 20, 64)        0         \n",
            "_________________________________________________________________\n",
            "conv2d_2 (Conv2D)            (None, 20, 20, 64)        102464    \n",
            "_________________________________________________________________\n",
            "max_pooling2d_2 (MaxPooling2 (None, 10, 10, 64)        0         \n",
            "_________________________________________________________________\n",
            "conv2d_3 (Conv2D)            (None, 10, 10, 64)        102464    \n",
            "_________________________________________________________________\n",
            "max_pooling2d_3 (MaxPooling2 (None, 5, 5, 64)          0         \n",
            "_________________________________________________________________\n",
            "flatten (Flatten)            (None, 1600)              0         \n",
            "_________________________________________________________________\n",
            "dense (Dense)                (None, 1000)              1601000   \n",
            "_________________________________________________________________\n",
            "dense_1 (Dense)              (None, 514)               514514    \n",
            "=================================================================\n",
            "Total params: 2,358,010\n",
            "Trainable params: 2,358,010\n",
            "Non-trainable params: 0\n",
            "_________________________________________________________________\n"
          ],
          "name": "stdout"
        }
      ]
    },
    {
      "cell_type": "code",
      "metadata": {
        "id": "8XR3827mkrPv",
        "outputId": "f478bcdb-d4a1-46ee-dd97-892475180ce6",
        "colab": {
          "base_uri": "https://localhost:8080/"
        }
      },
      "source": [
        "history = model.fit(\n",
        "    np.array(X_80_train).reshape(-1,80,80,1), \n",
        "    np.array(y_train), \n",
        "    epochs=10, \n",
        "    batch_size=400, \n",
        "    validation_data=(np.array(X_80_val).reshape(-1,80,80,1), y_val))"
      ],
      "execution_count": 11,
      "outputs": [
        {
          "output_type": "stream",
          "text": [
            "Epoch 1/10\n",
            "1197/1197 [==============================] - 75s 63ms/step - loss: 1.2783 - acc: 0.7288 - val_loss: 0.5990 - val_acc: 0.8441\n",
            "Epoch 2/10\n",
            "1197/1197 [==============================] - 74s 62ms/step - loss: 0.3877 - acc: 0.8943 - val_loss: 0.3970 - val_acc: 0.8933\n",
            "Epoch 3/10\n",
            "1197/1197 [==============================] - 74s 62ms/step - loss: 0.2703 - acc: 0.9235 - val_loss: 0.3432 - val_acc: 0.9083\n",
            "Epoch 4/10\n",
            "1197/1197 [==============================] - 74s 62ms/step - loss: 0.2101 - acc: 0.9385 - val_loss: 0.3491 - val_acc: 0.9108\n",
            "Epoch 5/10\n",
            "1197/1197 [==============================] - 74s 62ms/step - loss: 0.1693 - acc: 0.9489 - val_loss: 0.3429 - val_acc: 0.9127\n",
            "Epoch 6/10\n",
            "1197/1197 [==============================] - 74s 62ms/step - loss: 0.1410 - acc: 0.9569 - val_loss: 0.3296 - val_acc: 0.9180\n",
            "Epoch 7/10\n",
            "1197/1197 [==============================] - 74s 62ms/step - loss: 0.1187 - acc: 0.9629 - val_loss: 0.3649 - val_acc: 0.9169\n",
            "Epoch 8/10\n",
            "1197/1197 [==============================] - 74s 62ms/step - loss: 0.1055 - acc: 0.9668 - val_loss: 0.3645 - val_acc: 0.9198\n",
            "Epoch 9/10\n",
            "1197/1197 [==============================] - 73s 61ms/step - loss: 0.0912 - acc: 0.9711 - val_loss: 0.3885 - val_acc: 0.9197\n",
            "Epoch 10/10\n",
            "1197/1197 [==============================] - 73s 61ms/step - loss: 0.0837 - acc: 0.9733 - val_loss: 0.3904 - val_acc: 0.9227\n"
          ],
          "name": "stdout"
        }
      ]
    },
    {
      "cell_type": "code",
      "metadata": {
        "id": "TfPj4hiwk_Yu"
      },
      "source": [
        "def visualize_training_results(results):\n",
        "    history = results.history\n",
        "    plt.figure()\n",
        "    plt.plot(history['val_loss'])\n",
        "    plt.plot(history['loss'])\n",
        "    plt.legend(['val_loss', 'loss'])\n",
        "    plt.title('Loss')\n",
        "    plt.xlabel('Epochs')\n",
        "    plt.ylabel('Loss')\n",
        "    plt.show()\n",
        "    \n",
        "    plt.figure()\n",
        "    plt.plot(history['val_acc'])\n",
        "    plt.plot(history['acc'])\n",
        "    plt.legend(['val_acc', 'acc'])\n",
        "    plt.title('Accuracy')\n",
        "    plt.xlabel('Epochs')\n",
        "    plt.ylabel('Accuracy')\n",
        "    plt.show()"
      ],
      "execution_count": 12,
      "outputs": []
    },
    {
      "cell_type": "code",
      "metadata": {
        "id": "DRB5PEg-1low",
        "outputId": "f1cd0cbf-7b0a-4b8a-8f21-897b86443829",
        "colab": {
          "base_uri": "https://localhost:8080/",
          "height": 573
        }
      },
      "source": [
        "visualize_training_results(history)"
      ],
      "execution_count": 13,
      "outputs": [
        {
          "output_type": "display_data",
          "data": {
            "image/png": "[encoded data removed]",
            "text/plain": [
              "<Figure size 432x288 with 1 Axes>"
            ]
          },
          "metadata": {
            "tags": [],
            "needs_background": "light"
          }
        },
        {
          "output_type": "display_data",
          "data": {
            "image/png": "[encoded data removed]",
            "text/plain": [
              "<Figure size 432x288 with 1 Axes>"
            ]
          },
          "metadata": {
            "tags": [],
            "needs_background": "light"
          }
        }
      ]
    },
    {
      "cell_type": "code",
      "metadata": {
        "id": "eXFr-tTD3GeU",
        "outputId": "c49e97b3-cc97-4a54-9a60-bfc5ef7020d7",
        "colab": {
          "base_uri": "https://localhost:8080/"
        }
      },
      "source": [
        "yhat_test = model.predict(np.array(X_80_test).reshape(-1,80,80,1))\n",
        "yhat_test[0]"
      ],
      "execution_count": 14,
      "outputs": [
        {
          "output_type": "execute_result",
          "data": {
            "text/plain": [
              "array([6.39169176e-31, 1.18101580e-21, 1.17261269e-20, 7.46864231e-27,\n",
              "       6.00260797e-23, 1.50276785e-26, 2.66951755e-33, 4.83569185e-13,\n",
              "       2.12173063e-14, 8.46871429e-16, 2.94668363e-16, 2.03203817e-12,\n",
              "       1.91476592e-11, 2.49833609e-18, 3.51752522e-14, 7.45197088e-18,\n",
              "       3.76882824e-13, 1.14563957e-12, 1.94015878e-14, 3.49426552e-19,\n",
              "       2.78110038e-14, 1.55241089e-20, 6.67762720e-13, 1.05406244e-20,\n",
              "       1.76432976e-17, 3.92981970e-18, 3.22374472e-15, 1.66177111e-17,\n",
              "       4.55411472e-19, 9.51064036e-22, 2.19774676e-17, 5.80563175e-20,\n",
              "       2.02232545e-12, 1.30975021e-15, 2.26775846e-12, 6.26302992e-21,\n",
              "       8.69078681e-12, 1.84350223e-16, 4.21661405e-17, 1.40778365e-18,\n",
              "       5.13100166e-20, 9.45177934e-25, 1.24925406e-13, 6.44029372e-14,\n",
              "       6.76167132e-15, 2.24321362e-14, 5.05074599e-14, 1.81659604e-10,\n",
              "       4.87774214e-15, 3.31651604e-20, 6.09802769e-28, 1.25335855e-14,\n",
              "       8.64436724e-19, 4.44389995e-13, 1.02876440e-15, 5.28204043e-11,\n",
              "       7.84621283e-13, 9.35368293e-17, 6.45902396e-23, 4.87526945e-22,\n",
              "       3.32739720e-15, 1.27670407e-15, 4.15258279e-12, 2.16259883e-19,\n",
              "       1.30268756e-18, 1.75596622e-14, 2.67015939e-14, 1.07603565e-16,\n",
              "       2.24485913e-16, 2.84133199e-12, 1.42915973e-14, 1.59217273e-22,\n",
              "       2.90990164e-22, 1.07406259e-17, 1.93178747e-18, 5.87207310e-20,\n",
              "       3.61789817e-21, 2.24226046e-21, 4.85198240e-23, 1.35473260e-30,\n",
              "       1.81423121e-36, 2.43471203e-21, 1.00982316e-26, 3.10786296e-20,\n",
              "       1.26212622e-26, 6.28677880e-20, 1.79464475e-25, 6.56521718e-24,\n",
              "       4.19882195e-28, 1.72529870e-27, 1.26449654e-12, 2.52635201e-31,\n",
              "       1.48893538e-27, 8.89507982e-28, 7.73549178e-21, 7.84462570e-32,\n",
              "       4.98881193e-28, 5.73321734e-30, 1.32956368e-23, 1.18938274e-24,\n",
              "       5.49118922e-21, 1.01686944e-20, 5.77845784e-19, 3.62480166e-23,\n",
              "       4.09243638e-17, 1.08145194e-22, 2.00310572e-29, 9.17117763e-20,\n",
              "       4.00010681e-17, 2.95195108e-22, 1.27190509e-24, 2.48437842e-23,\n",
              "       9.80950303e-23, 1.23208093e-25, 5.44107461e-24, 8.64879937e-31,\n",
              "       6.72510783e-18, 1.20269267e-22, 1.45048625e-22, 6.33019506e-19,\n",
              "       6.95384116e-20, 8.29398594e-25, 2.48192507e-23, 5.50563223e-24,\n",
              "       8.64260882e-29, 2.15403341e-14, 3.40072998e-10, 8.66098040e-24,\n",
              "       6.45281664e-16, 1.96411965e-13, 1.16462977e-18, 1.12630806e-17,\n",
              "       3.24979675e-23, 1.22536451e-17, 4.19844758e-12, 1.81140943e-14,\n",
              "       3.90307404e-12, 3.84436309e-21, 2.24493167e-20, 1.00000000e+00,\n",
              "       3.56866958e-17, 8.55753257e-16, 5.22695165e-10, 3.54888346e-13,\n",
              "       1.64155061e-12, 9.94225163e-25, 5.10574074e-26, 5.51146531e-27,\n",
              "       4.97209445e-20, 8.78181991e-15, 4.65703098e-18, 2.43118032e-25,\n",
              "       3.75154277e-21, 3.57018211e-24, 6.25070465e-24, 3.27809319e-18,\n",
              "       3.18253372e-13, 1.58883254e-11, 6.34195322e-23, 3.80130002e-21,\n",
              "       6.81098593e-23, 2.14838976e-12, 1.73403423e-20, 6.11232552e-21,\n",
              "       5.53845421e-23, 1.64842061e-21, 1.50431118e-18, 1.11898570e-23,\n",
              "       4.35388170e-18, 1.94507492e-26, 2.87279842e-22, 5.42257635e-22,\n",
              "       6.09878716e-23, 1.00738526e-31, 7.67164519e-26, 6.71570108e-25,\n",
              "       1.31489739e-21, 1.49153369e-19, 5.33834700e-21, 2.71013811e-19,\n",
              "       3.87997754e-26, 1.80747914e-17, 7.31001821e-16, 5.19135905e-15,\n",
              "       2.27763051e-22, 6.24534386e-16, 1.03172945e-19, 7.64602331e-18,\n",
              "       1.08524294e-27, 9.34626130e-25, 2.89815605e-24, 2.98831772e-24,\n",
              "       6.71598546e-24, 2.39132727e-16, 1.14691395e-20, 1.54135542e-24,\n",
              "       6.59665613e-29, 3.30553417e-16, 1.35374558e-23, 3.29875638e-24,\n",
              "       6.19406680e-25, 4.18288816e-18, 3.49321268e-19, 1.75528769e-24,\n",
              "       3.71073667e-21, 9.79092314e-23, 5.14469397e-23, 5.50505966e-26,\n",
              "       2.54464577e-28, 5.41362262e-16, 3.67764272e-24, 4.51896958e-18,\n",
              "       4.52331558e-18, 6.25621563e-24, 3.75532944e-25, 1.65762590e-30,\n",
              "       1.01258972e-32, 7.81376262e-20, 2.71766015e-22, 1.85249538e-18,\n",
              "       1.80973301e-27, 3.19727085e-20, 5.58491008e-18, 8.95478486e-23,\n",
              "       6.22753762e-27, 2.79999054e-25, 6.00867364e-25, 2.40678257e-25,\n",
              "       4.27828627e-22, 8.41487964e-29, 1.14300366e-22, 2.82951154e-22,\n",
              "       1.02153106e-20, 7.70048928e-20, 2.72135692e-27, 9.19628960e-29,\n",
              "       1.17239941e-25, 1.26287875e-24, 3.42533109e-21, 2.77875327e-24,\n",
              "       3.75648141e-22, 3.94927119e-23, 2.32009454e-19, 5.57520779e-24,\n",
              "       4.66026630e-25, 1.59079304e-24, 3.97129050e-19, 1.15753134e-23,\n",
              "       1.01308559e-22, 5.53681179e-21, 3.71910371e-18, 1.28456302e-17,\n",
              "       3.06020960e-17, 1.62348479e-27, 3.18401143e-23, 1.63795348e-20,\n",
              "       1.59218196e-18, 1.01545791e-21, 2.69515537e-21, 1.38783398e-21,\n",
              "       8.05291630e-27, 2.84900429e-24, 4.83322117e-20, 1.59847920e-20,\n",
              "       9.32549691e-18, 2.40216278e-15, 1.18652999e-13, 8.12457909e-16,\n",
              "       1.83898907e-20, 9.26430373e-13, 1.60317581e-19, 1.75327595e-21,\n",
              "       1.20806727e-23, 4.76068216e-29, 9.91548933e-22, 1.75186349e-23,\n",
              "       8.71531004e-22, 2.58276797e-27, 2.30615824e-22, 2.88772010e-29,\n",
              "       1.70858160e-15, 1.41301899e-25, 9.55882244e-24, 6.26348577e-28,\n",
              "       4.87625758e-21, 6.20076630e-22, 2.42140338e-20, 6.23663536e-22,\n",
              "       1.59697809e-22, 2.00463506e-21, 1.24645611e-19, 1.54602948e-26,\n",
              "       1.30824824e-21, 2.53248356e-20, 9.59516607e-18, 4.48637743e-22,\n",
              "       3.38965989e-23, 1.28256361e-27, 2.37981556e-16, 1.78133959e-23,\n",
              "       7.08596032e-21, 5.13538798e-20, 4.11349713e-20, 1.54458088e-24,\n",
              "       3.49936405e-25, 1.03200087e-12, 4.66028177e-26, 1.47646578e-17,\n",
              "       1.44000109e-21, 1.41857169e-24, 1.69404377e-23, 3.91910793e-22,\n",
              "       5.06488769e-18, 6.05130631e-22, 1.75289525e-28, 7.54430475e-17,\n",
              "       9.80724327e-26, 1.03703503e-22, 8.27411937e-15, 1.62160389e-26,\n",
              "       5.41146303e-28, 1.62637070e-15, 4.79506853e-24, 2.67801097e-20,\n",
              "       4.63277391e-18, 1.15626978e-22, 8.54456085e-21, 1.12009726e-21,\n",
              "       1.39580556e-18, 2.06265331e-19, 4.52904598e-19, 4.66913885e-28,\n",
              "       2.91198110e-20, 8.73192049e-21, 1.14213832e-26, 8.25350405e-22,\n",
              "       4.79794886e-21, 3.76572318e-21, 2.55719154e-26, 5.76836248e-22,\n",
              "       2.58845442e-23, 1.22518996e-27, 2.76762441e-24, 9.92710843e-22,\n",
              "       6.79047557e-20, 3.11169754e-18, 5.10992941e-26, 2.60931459e-22,\n",
              "       5.24846717e-30, 2.15393434e-22, 1.19353962e-27, 4.10288757e-20,\n",
              "       2.54835011e-18, 7.83907967e-35, 8.68508430e-20, 5.19691342e-20,\n",
              "       1.98716606e-24, 3.92917211e-27, 4.11066297e-25, 4.17748802e-23,\n",
              "       8.34913200e-31, 1.61469581e-27, 5.10261484e-30, 1.47715745e-26,\n",
              "       1.30051443e-23, 8.82993223e-13, 6.11441796e-23, 1.30640530e-25,\n",
              "       8.45921063e-26, 3.40602701e-25, 2.45842985e-26, 3.13757908e-23,\n",
              "       3.54467575e-28, 3.34516151e-24, 4.96841206e-29, 4.38226966e-28,\n",
              "       1.08826761e-15, 4.01498030e-25, 2.95583072e-20, 4.34831049e-23,\n",
              "       2.72561602e-20, 9.26014963e-21, 1.82725047e-25, 6.10564292e-19,\n",
              "       8.33827996e-23, 3.77731332e-24, 8.03516034e-17, 5.77324475e-16,\n",
              "       1.31234913e-25, 5.90144512e-20, 1.09579653e-20, 1.25649979e-20,\n",
              "       1.08195205e-28, 8.65774717e-23, 1.04993430e-25, 1.40686262e-22,\n",
              "       7.48801424e-19, 1.46942424e-11, 1.11842044e-19, 3.70518350e-18,\n",
              "       4.10353549e-17, 2.51515725e-10, 1.76989338e-22, 5.38542436e-16,\n",
              "       4.27240730e-18, 3.05897578e-30, 4.10354581e-27, 2.61351716e-23,\n",
              "       6.33469948e-23, 1.25080897e-20, 6.17488208e-19, 2.71929267e-19,\n",
              "       2.12637017e-17, 2.05216149e-25, 3.70042142e-19, 3.35688525e-23,\n",
              "       8.66916715e-19, 2.36065780e-22, 1.56913603e-19, 1.04046391e-27,\n",
              "       5.09583479e-19, 6.83018057e-25, 4.22571330e-24, 4.47843287e-19,\n",
              "       3.11759552e-30, 5.44351339e-28, 7.45251428e-32, 9.49553967e-26,\n",
              "       2.39943167e-24, 9.18968444e-24, 2.12937902e-27, 2.89144587e-29,\n",
              "       1.16844874e-24, 4.02810990e-26, 1.14771632e-25, 1.30288238e-24,\n",
              "       9.42644807e-14, 3.98385727e-25, 2.22730739e-21, 1.47372659e-23,\n",
              "       4.12793898e-22, 3.50581309e-20, 3.32124092e-26, 6.86457762e-26,\n",
              "       1.04548068e-20, 5.34163759e-17, 4.38122208e-18, 2.92170765e-19,\n",
              "       2.20051778e-22, 1.47236323e-20, 6.95753245e-19, 1.31022087e-21,\n",
              "       2.22157014e-22, 4.01821315e-25, 3.49970126e-23, 9.33136092e-27,\n",
              "       1.10843561e-25, 3.84737626e-18, 1.64274328e-24, 2.24411255e-25,\n",
              "       2.40412703e-28, 3.47347773e-28, 5.28509603e-29, 1.24139441e-24,\n",
              "       1.17892632e-30, 1.97222745e-25, 1.75948609e-22, 2.28321416e-23,\n",
              "       1.22391388e-21, 6.85271227e-30, 1.54155253e-20, 7.93010264e-25,\n",
              "       8.39568030e-20, 5.54569283e-20, 7.81118709e-23, 1.12322070e-21,\n",
              "       4.48407259e-27, 1.28470144e-30, 3.04276219e-31, 1.60385323e-21,\n",
              "       5.95722863e-18, 7.54180071e-17, 5.66040851e-18, 1.79202137e-21,\n",
              "       5.78560106e-20, 3.91696324e-18, 7.41627306e-24, 2.56496965e-25,\n",
              "       2.04459983e-23, 5.10870832e-31, 7.66979151e-21, 2.91128644e-24,\n",
              "       3.58405976e-24, 7.82667355e-29, 1.20172218e-19, 4.98477025e-24,\n",
              "       1.41991481e-16, 4.90072873e-19, 2.68602499e-14, 1.13918520e-16,\n",
              "       1.77054026e-16, 3.84092504e-25, 1.09068094e-25, 3.67123354e-26,\n",
              "       7.60006502e-29, 7.07641743e-23, 3.73557713e-21, 3.29511983e-25,\n",
              "       1.17715667e-21, 8.31625745e-25, 4.96296653e-25, 2.42426545e-30,\n",
              "       7.33132805e-23, 3.49152707e-08], dtype=float32)"
            ]
          },
          "metadata": {
            "tags": []
          },
          "execution_count": 14
        }
      ]
    },
    {
      "cell_type": "code",
      "metadata": {
        "id": "aEcYnrev5eXK"
      },
      "source": [
        ""
      ],
      "execution_count": 14,
      "outputs": []
    }
  ]
}